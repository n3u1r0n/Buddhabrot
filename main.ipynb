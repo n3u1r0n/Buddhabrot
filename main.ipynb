{
 "metadata": {
  "language_info": {
   "codemirror_mode": {
    "name": "ipython",
    "version": 3
   },
   "file_extension": ".py",
   "mimetype": "text/x-python",
   "name": "python",
   "nbconvert_exporter": "python",
   "pygments_lexer": "ipython3",
   "version": "3.9.5"
  },
  "orig_nbformat": 2,
  "kernelspec": {
   "name": "python3",
   "display_name": "Python 3.9.5  ('venv': venv)"
  },
  "metadata": {
   "interpreter": {
    "hash": "d306ae3f5a2717f75bb5459e1de9d98187d7bc32e24dcef970ec3b9fb6825c83"
   }
  },
  "interpreter": {
   "hash": "5e6b785da946625ad232fed490e4adfd41adc9f0dbcbaece383e2421586e74e9"
  }
 },
 "nbformat": 4,
 "nbformat_minor": 2,
 "cells": [
  {
   "cell_type": "code",
   "execution_count": null,
   "source": [
    "import numpy as np\n",
    "import cupy as cp\n",
    "from PIL import Image, ImageFilter\n",
    "import time\n",
    "from datetime import timedelta\n",
    "from multiprocessing import Pool\n",
    "import numba as nb\n",
    "import GPUtil\n",
    "\n",
    "def gpu_ram():\n",
    "  return int(GPUtil.getGPUs()[0].memoryFree * 1_000_000)\n",
    "\n",
    "@nb.njit(parallel=True)\n",
    "def grid(buddha, n, m):\n",
    "    for k in nb.prange(len(n)):\n",
    "        buddha[n[k],m[k]] += 1\n",
    "    return buddha\n",
    "\n",
    "start = time.monotonic()\n",
    "maxiter = 120\n",
    "RAM = int(gpu_ram() / 8)\n",
    "batchsize = int(RAM / 12)\n",
    "number_of_batches = 1000\n",
    "print('batchsize: {}\\nmaxiter: {}\\nnumber_of_batches: {}\\ntotal: {}\\n'.format(batchsize, maxiter, number_of_batches, number_of_batches * batchsize))\n",
    "\n",
    "w, h = 3600, 3000 - 1\n",
    "r, R, i, I = -2, 1, -1.25, 1.25\n",
    "dr = (R - r) / w\n",
    "di = (i - I) / h\n",
    "\n",
    "threshold = 4\n",
    "threshold_square = threshold * threshold\n",
    "buddha = np.zeros((h, w), dtype=np.uint64)\n",
    "\n",
    "for _ in range(number_of_batches):\n",
    "    print('working on batch {}...'.format(_ + 1))\n",
    "    cp.random.seed(_)\n",
    "    c = cp.exp(1j * cp.random.random(batchsize) * 2 * cp.pi) * cp.sqrt(cp.random.random(batchsize)) * threshold\n",
    "    c = c[cp.abs(1 - cp.sqrt(1 - 4 * c)) >= 1]\n",
    "    z = cp.copy(c)\n",
    "    not_diverging = cp.ones_like(z, dtype=bool)\n",
    "    for _ in range(maxiter):\n",
    "        z[not_diverging] = z[not_diverging] * z[not_diverging] + c[not_diverging]\n",
    "        not_diverging = (z * cp.conj(z) < threshold_square)\n",
    "    del z\n",
    "    c = c[not_diverging == False]\n",
    "    del not_diverging\n",
    "    z = cp.zeros_like(c)\n",
    "    for k in range(1, maxiter):\n",
    "        z = z * z + c\n",
    "        inside = (r <= z.real) * (z.real < R) * (i <= z.imag) * (z.imag < I)\n",
    "        n = cp.floor((i - z[inside].imag) / di).get().astype(int)\n",
    "        m = cp.floor((z[inside].real - r) / dr).get().astype(int)\n",
    "        del inside\n",
    "        buddha = grid(buddha, n, m)\n",
    "        del m, n\n",
    "        not_diverged = (z * np.conj(z) < threshold_square)\n",
    "        z, c = z[not_diverged], c[not_diverged]\n",
    "        del not_diverged\n",
    "    del z, c\n",
    "\n",
    "np.save('arrays/maxiter{}_batches{}_{}x{}.npy'.format(maxiter, number_of_batches, w, h), buddha)\n",
    "buddha = buddha + buddha[::-1]\n",
    "print('\\ntime: {}'.format(timedelta(seconds=time.monotonic() - start)))"
   ],
   "outputs": [],
   "metadata": {}
  },
  {
   "cell_type": "code",
   "execution_count": 25,
   "source": [
    "image = np.copy(buddha).T\n",
    "m, M = np.min(image), np.max(image)\n",
    "image = (image - m) / (M - m)\n",
    "\n",
    "def transform(image):\n",
    "    d = 0.5\n",
    "    D = (d / (1 + d)) ** (1/2)\n",
    "    high = 0.8\n",
    "    image = (((image + d) / (1 + d)) ** (1/2) - D) / (1 - D)\n",
    "    image = np.minimum(image / high, 1)\n",
    "    return image\n",
    "\n",
    "#image = transform(image)\n",
    "image = 255 * image\n",
    "image = Image.fromarray(image).convert('L')\n",
    "#image = image.filter(ImageFilter.BoxBlur(1))\n",
    "image.save('images/maxiter{}_batches{}_{}x{}.png'.format(maxiter, number_of_batches, w, h))"
   ],
   "outputs": [],
   "metadata": {}
  },
  {
   "cell_type": "code",
   "execution_count": null,
   "source": [],
   "outputs": [],
   "metadata": {}
  }
 ]
}